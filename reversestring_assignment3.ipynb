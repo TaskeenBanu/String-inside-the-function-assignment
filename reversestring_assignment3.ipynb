{
 "cells": [
  {
   "cell_type": "code",
   "execution_count": 5,
   "id": "5aad62da",
   "metadata": {},
   "outputs": [
    {
     "name": "stdout",
     "output_type": "stream",
     "text": [
      "enter the string that need to be reversed : abc\n",
      "the original string is:  abc\n",
      "the reverse string is cba\n"
     ]
    }
   ],
   "source": [
    "def reverse_string(str):\n",
    "    str1 = \"\"\n",
    "    for i in str:\n",
    "        str1 = i + str1\n",
    "    return str1\n",
    "str = input(\"enter the string that need to be reversed : \")\n",
    "print(\"the original string is: \",str)\n",
    "print(\"the reverse string is\",reverse_string(str))\n",
    "    "
   ]
  },
  {
   "cell_type": "code",
   "execution_count": null,
   "id": "eca723a6",
   "metadata": {},
   "outputs": [],
   "source": []
  }
 ],
 "metadata": {
  "kernelspec": {
   "display_name": "Python 3 (ipykernel)",
   "language": "python",
   "name": "python3"
  },
  "language_info": {
   "codemirror_mode": {
    "name": "ipython",
    "version": 3
   },
   "file_extension": ".py",
   "mimetype": "text/x-python",
   "name": "python",
   "nbconvert_exporter": "python",
   "pygments_lexer": "ipython3",
   "version": "3.9.12"
  }
 },
 "nbformat": 4,
 "nbformat_minor": 5
}
